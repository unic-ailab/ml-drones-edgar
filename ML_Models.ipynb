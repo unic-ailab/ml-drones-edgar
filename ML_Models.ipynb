{
 "cells": [
  {
   "cell_type": "code",
   "execution_count": 2,
   "id": "50804654",
   "metadata": {},
   "outputs": [
    {
     "data": {
      "text/plain": [
       "Index(['flight', 'time', 'wind_speed', 'wind_angle', 'battery_voltage',\n",
       "       'battery_current', 'position_x', 'position_y', 'position_z',\n",
       "       'orientation_x', 'orientation_y', 'orientation_z', 'orientation_w',\n",
       "       'velocity_x', 'velocity_y', 'velocity_z', 'angular_x', 'angular_y',\n",
       "       'angular_z', 'linear_acceleration_x', 'linear_acceleration_y',\n",
       "       'linear_acceleration_z', 'speed', 'payload', 'altitude', 'date',\n",
       "       'time_day', 'route'],\n",
       "      dtype='object')"
      ]
     },
     "execution_count": 2,
     "metadata": {},
     "output_type": "execute_result"
    }
   ],
   "source": [
    "import pandas as pd\n",
    "import numpy as np\n",
    "import matplotlib.pyplot as plt\n",
    "from sklearn import linear_model\n",
    "import warnings\n",
    "warnings.filterwarnings('ignore')\n",
    "\n",
    "df = pd.read_csv('flights.csv')\n",
    "\n",
    "df.columns\n",
    "\n"
   ]
  },
  {
   "cell_type": "code",
   "execution_count": 3,
   "id": "439072c4",
   "metadata": {},
   "outputs": [
    {
     "data": {
      "text/html": [
       "<div>\n",
       "<style scoped>\n",
       "    .dataframe tbody tr th:only-of-type {\n",
       "        vertical-align: middle;\n",
       "    }\n",
       "\n",
       "    .dataframe tbody tr th {\n",
       "        vertical-align: top;\n",
       "    }\n",
       "\n",
       "    .dataframe thead th {\n",
       "        text-align: right;\n",
       "    }\n",
       "</style>\n",
       "<table border=\"1\" class=\"dataframe\">\n",
       "  <thead>\n",
       "    <tr style=\"text-align: right;\">\n",
       "      <th></th>\n",
       "      <th>flight</th>\n",
       "      <th>time</th>\n",
       "      <th>wind_speed</th>\n",
       "      <th>wind_angle</th>\n",
       "      <th>battery_voltage</th>\n",
       "      <th>battery_current</th>\n",
       "      <th>position_x</th>\n",
       "      <th>position_y</th>\n",
       "      <th>position_z</th>\n",
       "      <th>orientation_x</th>\n",
       "      <th>...</th>\n",
       "      <th>linear_acceleration_x</th>\n",
       "      <th>linear_acceleration_y</th>\n",
       "      <th>linear_acceleration_z</th>\n",
       "      <th>speed</th>\n",
       "      <th>payload</th>\n",
       "      <th>altitude</th>\n",
       "      <th>date</th>\n",
       "      <th>time_day</th>\n",
       "      <th>route</th>\n",
       "      <th>power</th>\n",
       "    </tr>\n",
       "  </thead>\n",
       "  <tbody>\n",
       "    <tr>\n",
       "      <th>0</th>\n",
       "      <td>1</td>\n",
       "      <td>0.00</td>\n",
       "      <td>0.1</td>\n",
       "      <td>12.0</td>\n",
       "      <td>24.222174</td>\n",
       "      <td>0.087470</td>\n",
       "      <td>-79.782396</td>\n",
       "      <td>40.458047</td>\n",
       "      <td>269.332402</td>\n",
       "      <td>0.001772</td>\n",
       "      <td>...</td>\n",
       "      <td>0.004258</td>\n",
       "      <td>-0.120405</td>\n",
       "      <td>-9.811137</td>\n",
       "      <td>4.0</td>\n",
       "      <td>0.0</td>\n",
       "      <td>25</td>\n",
       "      <td>2019-04-07</td>\n",
       "      <td>10:13</td>\n",
       "      <td>R5</td>\n",
       "      <td>2.118702</td>\n",
       "    </tr>\n",
       "    <tr>\n",
       "      <th>1</th>\n",
       "      <td>1</td>\n",
       "      <td>0.20</td>\n",
       "      <td>0.1</td>\n",
       "      <td>3.0</td>\n",
       "      <td>24.227180</td>\n",
       "      <td>0.095421</td>\n",
       "      <td>-79.782396</td>\n",
       "      <td>40.458047</td>\n",
       "      <td>269.332056</td>\n",
       "      <td>0.001768</td>\n",
       "      <td>...</td>\n",
       "      <td>0.006175</td>\n",
       "      <td>-0.116397</td>\n",
       "      <td>-9.810392</td>\n",
       "      <td>4.0</td>\n",
       "      <td>0.0</td>\n",
       "      <td>25</td>\n",
       "      <td>2019-04-07</td>\n",
       "      <td>10:13</td>\n",
       "      <td>R5</td>\n",
       "      <td>2.311789</td>\n",
       "    </tr>\n",
       "    <tr>\n",
       "      <th>2</th>\n",
       "      <td>1</td>\n",
       "      <td>0.30</td>\n",
       "      <td>0.1</td>\n",
       "      <td>352.0</td>\n",
       "      <td>24.225929</td>\n",
       "      <td>0.095421</td>\n",
       "      <td>-79.782396</td>\n",
       "      <td>40.458047</td>\n",
       "      <td>269.333081</td>\n",
       "      <td>0.001768</td>\n",
       "      <td>...</td>\n",
       "      <td>0.002696</td>\n",
       "      <td>-0.128592</td>\n",
       "      <td>-9.809440</td>\n",
       "      <td>4.0</td>\n",
       "      <td>0.0</td>\n",
       "      <td>25</td>\n",
       "      <td>2019-04-07</td>\n",
       "      <td>10:13</td>\n",
       "      <td>R5</td>\n",
       "      <td>2.311669</td>\n",
       "    </tr>\n",
       "    <tr>\n",
       "      <th>3</th>\n",
       "      <td>1</td>\n",
       "      <td>0.50</td>\n",
       "      <td>0.1</td>\n",
       "      <td>354.0</td>\n",
       "      <td>24.224678</td>\n",
       "      <td>0.095421</td>\n",
       "      <td>-79.782396</td>\n",
       "      <td>40.458047</td>\n",
       "      <td>269.334648</td>\n",
       "      <td>0.001775</td>\n",
       "      <td>...</td>\n",
       "      <td>0.002024</td>\n",
       "      <td>-0.128271</td>\n",
       "      <td>-9.810159</td>\n",
       "      <td>4.0</td>\n",
       "      <td>0.0</td>\n",
       "      <td>25</td>\n",
       "      <td>2019-04-07</td>\n",
       "      <td>10:13</td>\n",
       "      <td>R5</td>\n",
       "      <td>2.311550</td>\n",
       "    </tr>\n",
       "    <tr>\n",
       "      <th>4</th>\n",
       "      <td>1</td>\n",
       "      <td>0.60</td>\n",
       "      <td>0.1</td>\n",
       "      <td>359.0</td>\n",
       "      <td>24.210905</td>\n",
       "      <td>0.079518</td>\n",
       "      <td>-79.782396</td>\n",
       "      <td>40.458047</td>\n",
       "      <td>269.336178</td>\n",
       "      <td>0.001775</td>\n",
       "      <td>...</td>\n",
       "      <td>0.008271</td>\n",
       "      <td>-0.119890</td>\n",
       "      <td>-9.812125</td>\n",
       "      <td>4.0</td>\n",
       "      <td>0.0</td>\n",
       "      <td>25</td>\n",
       "      <td>2019-04-07</td>\n",
       "      <td>10:13</td>\n",
       "      <td>R5</td>\n",
       "      <td>1.925196</td>\n",
       "    </tr>\n",
       "    <tr>\n",
       "      <th>...</th>\n",
       "      <td>...</td>\n",
       "      <td>...</td>\n",
       "      <td>...</td>\n",
       "      <td>...</td>\n",
       "      <td>...</td>\n",
       "      <td>...</td>\n",
       "      <td>...</td>\n",
       "      <td>...</td>\n",
       "      <td>...</td>\n",
       "      <td>...</td>\n",
       "      <td>...</td>\n",
       "      <td>...</td>\n",
       "      <td>...</td>\n",
       "      <td>...</td>\n",
       "      <td>...</td>\n",
       "      <td>...</td>\n",
       "      <td>...</td>\n",
       "      <td>...</td>\n",
       "      <td>...</td>\n",
       "      <td>...</td>\n",
       "      <td>...</td>\n",
       "    </tr>\n",
       "    <tr>\n",
       "      <th>1334</th>\n",
       "      <td>1</td>\n",
       "      <td>200.12</td>\n",
       "      <td>0.5</td>\n",
       "      <td>106.0</td>\n",
       "      <td>23.061522</td>\n",
       "      <td>0.135180</td>\n",
       "      <td>-79.782348</td>\n",
       "      <td>40.458035</td>\n",
       "      <td>268.296291</td>\n",
       "      <td>-0.000503</td>\n",
       "      <td>...</td>\n",
       "      <td>0.232549</td>\n",
       "      <td>0.733589</td>\n",
       "      <td>-9.772775</td>\n",
       "      <td>4.0</td>\n",
       "      <td>0.0</td>\n",
       "      <td>25</td>\n",
       "      <td>2019-04-07</td>\n",
       "      <td>10:13</td>\n",
       "      <td>R5</td>\n",
       "      <td>3.117460</td>\n",
       "    </tr>\n",
       "    <tr>\n",
       "      <th>1335</th>\n",
       "      <td>1</td>\n",
       "      <td>200.30</td>\n",
       "      <td>0.5</td>\n",
       "      <td>104.0</td>\n",
       "      <td>23.070286</td>\n",
       "      <td>0.135180</td>\n",
       "      <td>-79.782348</td>\n",
       "      <td>40.458034</td>\n",
       "      <td>268.307138</td>\n",
       "      <td>-0.000486</td>\n",
       "      <td>...</td>\n",
       "      <td>0.230562</td>\n",
       "      <td>0.743619</td>\n",
       "      <td>-9.772132</td>\n",
       "      <td>4.0</td>\n",
       "      <td>0.0</td>\n",
       "      <td>25</td>\n",
       "      <td>2019-04-07</td>\n",
       "      <td>10:13</td>\n",
       "      <td>R5</td>\n",
       "      <td>3.118645</td>\n",
       "    </tr>\n",
       "    <tr>\n",
       "      <th>1336</th>\n",
       "      <td>1</td>\n",
       "      <td>200.40</td>\n",
       "      <td>0.5</td>\n",
       "      <td>99.0</td>\n",
       "      <td>23.067781</td>\n",
       "      <td>0.143132</td>\n",
       "      <td>-79.782348</td>\n",
       "      <td>40.458034</td>\n",
       "      <td>268.310919</td>\n",
       "      <td>-0.000496</td>\n",
       "      <td>...</td>\n",
       "      <td>0.234810</td>\n",
       "      <td>0.736684</td>\n",
       "      <td>-9.774733</td>\n",
       "      <td>4.0</td>\n",
       "      <td>0.0</td>\n",
       "      <td>25</td>\n",
       "      <td>2019-04-07</td>\n",
       "      <td>10:13</td>\n",
       "      <td>R5</td>\n",
       "      <td>3.301736</td>\n",
       "    </tr>\n",
       "    <tr>\n",
       "      <th>1337</th>\n",
       "      <td>1</td>\n",
       "      <td>200.60</td>\n",
       "      <td>0.5</td>\n",
       "      <td>103.0</td>\n",
       "      <td>23.059017</td>\n",
       "      <td>0.119277</td>\n",
       "      <td>-79.782348</td>\n",
       "      <td>40.458034</td>\n",
       "      <td>268.324848</td>\n",
       "      <td>-0.000478</td>\n",
       "      <td>...</td>\n",
       "      <td>0.232103</td>\n",
       "      <td>0.732756</td>\n",
       "      <td>-9.772891</td>\n",
       "      <td>4.0</td>\n",
       "      <td>0.0</td>\n",
       "      <td>25</td>\n",
       "      <td>2019-04-07</td>\n",
       "      <td>10:13</td>\n",
       "      <td>R5</td>\n",
       "      <td>2.750401</td>\n",
       "    </tr>\n",
       "    <tr>\n",
       "      <th>1338</th>\n",
       "      <td>1</td>\n",
       "      <td>200.70</td>\n",
       "      <td>0.4</td>\n",
       "      <td>105.0</td>\n",
       "      <td>23.072790</td>\n",
       "      <td>0.143132</td>\n",
       "      <td>-79.782348</td>\n",
       "      <td>40.458034</td>\n",
       "      <td>268.337993</td>\n",
       "      <td>-0.000472</td>\n",
       "      <td>...</td>\n",
       "      <td>0.235916</td>\n",
       "      <td>0.748978</td>\n",
       "      <td>-9.773559</td>\n",
       "      <td>4.0</td>\n",
       "      <td>0.0</td>\n",
       "      <td>25</td>\n",
       "      <td>2019-04-07</td>\n",
       "      <td>10:13</td>\n",
       "      <td>R5</td>\n",
       "      <td>3.302453</td>\n",
       "    </tr>\n",
       "  </tbody>\n",
       "</table>\n",
       "<p>1339 rows × 29 columns</p>\n",
       "</div>"
      ],
      "text/plain": [
       "      flight    time  wind_speed  wind_angle  battery_voltage  \\\n",
       "0          1    0.00         0.1        12.0        24.222174   \n",
       "1          1    0.20         0.1         3.0        24.227180   \n",
       "2          1    0.30         0.1       352.0        24.225929   \n",
       "3          1    0.50         0.1       354.0        24.224678   \n",
       "4          1    0.60         0.1       359.0        24.210905   \n",
       "...      ...     ...         ...         ...              ...   \n",
       "1334       1  200.12         0.5       106.0        23.061522   \n",
       "1335       1  200.30         0.5       104.0        23.070286   \n",
       "1336       1  200.40         0.5        99.0        23.067781   \n",
       "1337       1  200.60         0.5       103.0        23.059017   \n",
       "1338       1  200.70         0.4       105.0        23.072790   \n",
       "\n",
       "      battery_current  position_x  position_y  position_z  orientation_x  ...  \\\n",
       "0            0.087470  -79.782396   40.458047  269.332402       0.001772  ...   \n",
       "1            0.095421  -79.782396   40.458047  269.332056       0.001768  ...   \n",
       "2            0.095421  -79.782396   40.458047  269.333081       0.001768  ...   \n",
       "3            0.095421  -79.782396   40.458047  269.334648       0.001775  ...   \n",
       "4            0.079518  -79.782396   40.458047  269.336178       0.001775  ...   \n",
       "...               ...         ...         ...         ...            ...  ...   \n",
       "1334         0.135180  -79.782348   40.458035  268.296291      -0.000503  ...   \n",
       "1335         0.135180  -79.782348   40.458034  268.307138      -0.000486  ...   \n",
       "1336         0.143132  -79.782348   40.458034  268.310919      -0.000496  ...   \n",
       "1337         0.119277  -79.782348   40.458034  268.324848      -0.000478  ...   \n",
       "1338         0.143132  -79.782348   40.458034  268.337993      -0.000472  ...   \n",
       "\n",
       "      linear_acceleration_x  linear_acceleration_y  linear_acceleration_z  \\\n",
       "0                  0.004258              -0.120405              -9.811137   \n",
       "1                  0.006175              -0.116397              -9.810392   \n",
       "2                  0.002696              -0.128592              -9.809440   \n",
       "3                  0.002024              -0.128271              -9.810159   \n",
       "4                  0.008271              -0.119890              -9.812125   \n",
       "...                     ...                    ...                    ...   \n",
       "1334               0.232549               0.733589              -9.772775   \n",
       "1335               0.230562               0.743619              -9.772132   \n",
       "1336               0.234810               0.736684              -9.774733   \n",
       "1337               0.232103               0.732756              -9.772891   \n",
       "1338               0.235916               0.748978              -9.773559   \n",
       "\n",
       "      speed  payload  altitude        date  time_day  route     power  \n",
       "0       4.0      0.0        25  2019-04-07     10:13     R5  2.118702  \n",
       "1       4.0      0.0        25  2019-04-07     10:13     R5  2.311789  \n",
       "2       4.0      0.0        25  2019-04-07     10:13     R5  2.311669  \n",
       "3       4.0      0.0        25  2019-04-07     10:13     R5  2.311550  \n",
       "4       4.0      0.0        25  2019-04-07     10:13     R5  1.925196  \n",
       "...     ...      ...       ...         ...       ...    ...       ...  \n",
       "1334    4.0      0.0        25  2019-04-07     10:13     R5  3.117460  \n",
       "1335    4.0      0.0        25  2019-04-07     10:13     R5  3.118645  \n",
       "1336    4.0      0.0        25  2019-04-07     10:13     R5  3.301736  \n",
       "1337    4.0      0.0        25  2019-04-07     10:13     R5  2.750401  \n",
       "1338    4.0      0.0        25  2019-04-07     10:13     R5  3.302453  \n",
       "\n",
       "[1339 rows x 29 columns]"
      ]
     },
     "execution_count": 3,
     "metadata": {},
     "output_type": "execute_result"
    }
   ],
   "source": [
    "df['power'] = df['battery_voltage'] * df['battery_current']\n",
    "df = df.loc[(df['flight'] == 1)]\n",
    "df"
   ]
  },
  {
   "cell_type": "markdown",
   "id": "311f4927",
   "metadata": {},
   "source": [
    "## Support Vector Machine"
   ]
  },
  {
   "cell_type": "code",
   "execution_count": 4,
   "id": "3ba872e4",
   "metadata": {},
   "outputs": [
    {
     "data": {
      "text/plain": [
       "Index(['flight', 'time', 'wind_speed', 'wind_angle', 'battery_voltage',\n",
       "       'battery_current', 'position_x', 'position_y', 'position_z',\n",
       "       'orientation_x', 'orientation_y', 'orientation_z', 'orientation_w',\n",
       "       'velocity_x', 'velocity_y', 'velocity_z', 'angular_x', 'angular_y',\n",
       "       'angular_z', 'linear_acceleration_x', 'linear_acceleration_y',\n",
       "       'linear_acceleration_z', 'speed', 'payload', 'altitude', 'date',\n",
       "       'time_day', 'route', 'power'],\n",
       "      dtype='object')"
      ]
     },
     "execution_count": 4,
     "metadata": {},
     "output_type": "execute_result"
    }
   ],
   "source": [
    "from sklearn.model_selection import train_test_split\n",
    "from sklearn.svm import SVC\n",
    "from sklearn.metrics import classification_report\n",
    "\n",
    "df.columns"
   ]
  },
  {
   "cell_type": "code",
   "execution_count": 33,
   "id": "5f3aa52e",
   "metadata": {},
   "outputs": [],
   "source": [
    "\n",
    "velocity_y = df.drop(['velocity_y', 'date', 'altitude', 'time_day', 'route', 'flight', 'time', 'altitude'], axis=1)\n",
    "Y = df['velocity_y']\n",
    "velocity_y_train, velocity_y_test, Y_train, Y_test = train_test_split(velocity_y, Y, test_size=0.33)\n",
    "\n"
   ]
  },
  {
   "cell_type": "code",
   "execution_count": 34,
   "id": "e03a66f6",
   "metadata": {},
   "outputs": [
    {
     "data": {
      "text/plain": [
       "SVC(kernel='linear')"
      ]
     },
     "execution_count": 34,
     "metadata": {},
     "output_type": "execute_result"
    }
   ],
   "source": [
    "clf = SVC(kernel='linear')\n",
    "clf.fit(velocity_y_train, Y_train.astype('int'))"
   ]
  },
  {
   "cell_type": "code",
   "execution_count": 35,
   "id": "271dce73",
   "metadata": {},
   "outputs": [],
   "source": [
    "Y_pred = clf.predict(velocity_y_test)"
   ]
  },
  {
   "cell_type": "code",
   "execution_count": 36,
   "id": "629de85a",
   "metadata": {
    "scrolled": true
   },
   "outputs": [
    {
     "name": "stdout",
     "output_type": "stream",
     "text": [
      "              precision    recall  f1-score   support\n",
      "\n",
      "          -1       0.67      0.44      0.53         9\n",
      "           0       0.95      0.95      0.95       165\n",
      "           1       0.54      0.64      0.58        11\n",
      "           2       0.69      0.53      0.60        17\n",
      "           3       0.92      0.98      0.95       215\n",
      "           4       0.79      0.44      0.56        25\n",
      "\n",
      "    accuracy                           0.90       442\n",
      "   macro avg       0.76      0.66      0.70       442\n",
      "weighted avg       0.90      0.90      0.90       442\n",
      "\n"
     ]
    }
   ],
   "source": [
    "print(classification_report(Y_test.astype('int'), Y_pred))"
   ]
  },
  {
   "cell_type": "markdown",
   "id": "5f15172c",
   "metadata": {},
   "source": [
    "## Linear Regression"
   ]
  },
  {
   "cell_type": "code",
   "execution_count": 37,
   "id": "c77973cf",
   "metadata": {},
   "outputs": [],
   "source": [
    "from sklearn.linear_model import LinearRegression\n",
    "x = df[['velocity_y', 'linear_acceleration_y']]\n",
    "ws = df['wind_speed']"
   ]
  },
  {
   "cell_type": "code",
   "execution_count": 39,
   "id": "b9fe78cd",
   "metadata": {},
   "outputs": [
    {
     "data": {
      "text/plain": [
       "LinearRegression()"
      ]
     },
     "execution_count": 39,
     "metadata": {},
     "output_type": "execute_result"
    }
   ],
   "source": [
    "model = LinearRegression()\n",
    "x_train, x_test, ws_train, ws_test = train_test_split(x, ws, test_size =0.33)\n",
    "\n",
    "model.fit(x_train, ws_train)"
   ]
  },
  {
   "cell_type": "code",
   "execution_count": 40,
   "id": "d5a135a6",
   "metadata": {},
   "outputs": [
    {
     "data": {
      "text/plain": [
       "1189   -1.181038\n",
       "87      1.014176\n",
       "46      0.813889\n",
       "406     1.382709\n",
       "1081   -2.332779\n",
       "          ...   \n",
       "165    -0.691429\n",
       "1230    0.096303\n",
       "277     0.622808\n",
       "1288    1.371449\n",
       "1272    1.077109\n",
       "Name: wind_speed, Length: 442, dtype: float64"
      ]
     },
     "execution_count": 40,
     "metadata": {},
     "output_type": "execute_result"
    }
   ],
   "source": [
    "predictions = model.predict(x_test)\n",
    "residuals = predictions - ws_test\n",
    "\n",
    "residuals"
   ]
  },
  {
   "cell_type": "code",
   "execution_count": 41,
   "id": "7a963abd",
   "metadata": {},
   "outputs": [
    {
     "data": {
      "text/plain": [
       "(array([ 12.,  11.,  46.,  54., 102.,  65.,  37.,  38.,  61.,  16.]),\n",
       " array([-2.66707608, -2.17758567, -1.68809525, -1.19860484, -0.70911443,\n",
       "        -0.21962401,  0.2698664 ,  0.75935682,  1.24884723,  1.73833764,\n",
       "         2.22782806]),\n",
       " <BarContainer object of 10 artists>)"
      ]
     },
     "execution_count": 41,
     "metadata": {},
     "output_type": "execute_result"
    },
    {
     "data": {
      "image/png": "[encoded data removed]",
      "text/plain": [
       "<Figure size 432x288 with 1 Axes>"
      ]
     },
     "metadata": {
      "needs_background": "light"
     },
     "output_type": "display_data"
    }
   ],
   "source": [
    "plt.hist(residuals)"
   ]
  },
  {
   "cell_type": "code",
   "execution_count": 42,
   "id": "8f26969b",
   "metadata": {},
   "outputs": [
    {
     "data": {
      "text/plain": [
       "1.0062721091637554"
      ]
     },
     "execution_count": 42,
     "metadata": {},
     "output_type": "execute_result"
    }
   ],
   "source": [
    "from sklearn.metrics import mean_squared_error\n",
    "error = mean_squared_error(ws_test, predictions)**0.05\n",
    "error"
   ]
  }
 ],
 "metadata": {
  "kernelspec": {
   "display_name": "Python 3",
   "language": "python",
   "name": "python3"
  },
  "language_info": {
   "codemirror_mode": {
    "name": "ipython",
    "version": 3
   },
   "file_extension": ".py",
   "mimetype": "text/x-python",
   "name": "python",
   "nbconvert_exporter": "python",
   "pygments_lexer": "ipython3",
   "version": "3.8.8"
  }
 },
 "nbformat": 4,
 "nbformat_minor": 5
}
