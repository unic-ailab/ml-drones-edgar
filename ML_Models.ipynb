{
 "cells": [
  {
   "cell_type": "code",
   "execution_count": 52,
   "id": "50804654",
   "metadata": {},
   "outputs": [],
   "source": [
    "import pandas as pd\n",
    "import numpy as np\n",
    "import matplotlib.pyplot as plt\n",
    "from sklearn import linear_model\n",
    "from sklearn.ensemble import RandomForestRegressor\n",
    "import warnings\n",
    "warnings.filterwarnings('ignore')\n",
    "\n",
    "#Load the dataset\n",
    "df = pd.read_csv('flights.csv')\n",
    "\n",
    "\n"
   ]
  },
  {
   "cell_type": "code",
   "execution_count": 53,
   "id": "439072c4",
   "metadata": {},
   "outputs": [
    {
     "data": {
      "text/html": [
       "<div>\n",
       "<style scoped>\n",
       "    .dataframe tbody tr th:only-of-type {\n",
       "        vertical-align: middle;\n",
       "    }\n",
       "\n",
       "    .dataframe tbody tr th {\n",
       "        vertical-align: top;\n",
       "    }\n",
       "\n",
       "    .dataframe thead th {\n",
       "        text-align: right;\n",
       "    }\n",
       "</style>\n",
       "<table border=\"1\" class=\"dataframe\">\n",
       "  <thead>\n",
       "    <tr style=\"text-align: right;\">\n",
       "      <th></th>\n",
       "      <th>flight</th>\n",
       "      <th>time</th>\n",
       "      <th>wind_speed</th>\n",
       "      <th>wind_angle</th>\n",
       "      <th>battery_voltage</th>\n",
       "      <th>battery_current</th>\n",
       "      <th>position_x</th>\n",
       "      <th>position_y</th>\n",
       "      <th>position_z</th>\n",
       "      <th>orientation_x</th>\n",
       "      <th>...</th>\n",
       "      <th>angular_z</th>\n",
       "      <th>linear_acceleration_x</th>\n",
       "      <th>linear_acceleration_y</th>\n",
       "      <th>linear_acceleration_z</th>\n",
       "      <th>speed</th>\n",
       "      <th>payload</th>\n",
       "      <th>altitude</th>\n",
       "      <th>date</th>\n",
       "      <th>time_day</th>\n",
       "      <th>route</th>\n",
       "    </tr>\n",
       "  </thead>\n",
       "  <tbody>\n",
       "    <tr>\n",
       "      <th>0</th>\n",
       "      <td>1</td>\n",
       "      <td>0.00</td>\n",
       "      <td>0.1</td>\n",
       "      <td>12.0</td>\n",
       "      <td>24.222174</td>\n",
       "      <td>0.087470</td>\n",
       "      <td>-79.782396</td>\n",
       "      <td>40.458047</td>\n",
       "      <td>269.332402</td>\n",
       "      <td>0.001772</td>\n",
       "      <td>...</td>\n",
       "      <td>0.006815</td>\n",
       "      <td>0.004258</td>\n",
       "      <td>-0.120405</td>\n",
       "      <td>-9.811137</td>\n",
       "      <td>4.0</td>\n",
       "      <td>0.0</td>\n",
       "      <td>25</td>\n",
       "      <td>2019-04-07</td>\n",
       "      <td>10:13</td>\n",
       "      <td>R5</td>\n",
       "    </tr>\n",
       "    <tr>\n",
       "      <th>1</th>\n",
       "      <td>1</td>\n",
       "      <td>0.20</td>\n",
       "      <td>0.1</td>\n",
       "      <td>3.0</td>\n",
       "      <td>24.227180</td>\n",
       "      <td>0.095421</td>\n",
       "      <td>-79.782396</td>\n",
       "      <td>40.458047</td>\n",
       "      <td>269.332056</td>\n",
       "      <td>0.001768</td>\n",
       "      <td>...</td>\n",
       "      <td>0.002034</td>\n",
       "      <td>0.006175</td>\n",
       "      <td>-0.116397</td>\n",
       "      <td>-9.810392</td>\n",
       "      <td>4.0</td>\n",
       "      <td>0.0</td>\n",
       "      <td>25</td>\n",
       "      <td>2019-04-07</td>\n",
       "      <td>10:13</td>\n",
       "      <td>R5</td>\n",
       "    </tr>\n",
       "    <tr>\n",
       "      <th>2</th>\n",
       "      <td>1</td>\n",
       "      <td>0.30</td>\n",
       "      <td>0.1</td>\n",
       "      <td>352.0</td>\n",
       "      <td>24.225929</td>\n",
       "      <td>0.095421</td>\n",
       "      <td>-79.782396</td>\n",
       "      <td>40.458047</td>\n",
       "      <td>269.333081</td>\n",
       "      <td>0.001768</td>\n",
       "      <td>...</td>\n",
       "      <td>-0.000874</td>\n",
       "      <td>0.002696</td>\n",
       "      <td>-0.128592</td>\n",
       "      <td>-9.809440</td>\n",
       "      <td>4.0</td>\n",
       "      <td>0.0</td>\n",
       "      <td>25</td>\n",
       "      <td>2019-04-07</td>\n",
       "      <td>10:13</td>\n",
       "      <td>R5</td>\n",
       "    </tr>\n",
       "    <tr>\n",
       "      <th>3</th>\n",
       "      <td>1</td>\n",
       "      <td>0.50</td>\n",
       "      <td>0.1</td>\n",
       "      <td>354.0</td>\n",
       "      <td>24.224678</td>\n",
       "      <td>0.095421</td>\n",
       "      <td>-79.782396</td>\n",
       "      <td>40.458047</td>\n",
       "      <td>269.334648</td>\n",
       "      <td>0.001775</td>\n",
       "      <td>...</td>\n",
       "      <td>0.002443</td>\n",
       "      <td>0.002024</td>\n",
       "      <td>-0.128271</td>\n",
       "      <td>-9.810159</td>\n",
       "      <td>4.0</td>\n",
       "      <td>0.0</td>\n",
       "      <td>25</td>\n",
       "      <td>2019-04-07</td>\n",
       "      <td>10:13</td>\n",
       "      <td>R5</td>\n",
       "    </tr>\n",
       "    <tr>\n",
       "      <th>4</th>\n",
       "      <td>1</td>\n",
       "      <td>0.60</td>\n",
       "      <td>0.1</td>\n",
       "      <td>359.0</td>\n",
       "      <td>24.210905</td>\n",
       "      <td>0.079518</td>\n",
       "      <td>-79.782396</td>\n",
       "      <td>40.458047</td>\n",
       "      <td>269.336178</td>\n",
       "      <td>0.001775</td>\n",
       "      <td>...</td>\n",
       "      <td>-0.006425</td>\n",
       "      <td>0.008271</td>\n",
       "      <td>-0.119890</td>\n",
       "      <td>-9.812125</td>\n",
       "      <td>4.0</td>\n",
       "      <td>0.0</td>\n",
       "      <td>25</td>\n",
       "      <td>2019-04-07</td>\n",
       "      <td>10:13</td>\n",
       "      <td>R5</td>\n",
       "    </tr>\n",
       "    <tr>\n",
       "      <th>...</th>\n",
       "      <td>...</td>\n",
       "      <td>...</td>\n",
       "      <td>...</td>\n",
       "      <td>...</td>\n",
       "      <td>...</td>\n",
       "      <td>...</td>\n",
       "      <td>...</td>\n",
       "      <td>...</td>\n",
       "      <td>...</td>\n",
       "      <td>...</td>\n",
       "      <td>...</td>\n",
       "      <td>...</td>\n",
       "      <td>...</td>\n",
       "      <td>...</td>\n",
       "      <td>...</td>\n",
       "      <td>...</td>\n",
       "      <td>...</td>\n",
       "      <td>...</td>\n",
       "      <td>...</td>\n",
       "      <td>...</td>\n",
       "      <td>...</td>\n",
       "    </tr>\n",
       "    <tr>\n",
       "      <th>1334</th>\n",
       "      <td>1</td>\n",
       "      <td>200.12</td>\n",
       "      <td>0.5</td>\n",
       "      <td>106.0</td>\n",
       "      <td>23.061522</td>\n",
       "      <td>0.135180</td>\n",
       "      <td>-79.782348</td>\n",
       "      <td>40.458035</td>\n",
       "      <td>268.296291</td>\n",
       "      <td>-0.000503</td>\n",
       "      <td>...</td>\n",
       "      <td>-0.001796</td>\n",
       "      <td>0.232549</td>\n",
       "      <td>0.733589</td>\n",
       "      <td>-9.772775</td>\n",
       "      <td>4.0</td>\n",
       "      <td>0.0</td>\n",
       "      <td>25</td>\n",
       "      <td>2019-04-07</td>\n",
       "      <td>10:13</td>\n",
       "      <td>R5</td>\n",
       "    </tr>\n",
       "    <tr>\n",
       "      <th>1335</th>\n",
       "      <td>1</td>\n",
       "      <td>200.30</td>\n",
       "      <td>0.5</td>\n",
       "      <td>104.0</td>\n",
       "      <td>23.070286</td>\n",
       "      <td>0.135180</td>\n",
       "      <td>-79.782348</td>\n",
       "      <td>40.458034</td>\n",
       "      <td>268.307138</td>\n",
       "      <td>-0.000486</td>\n",
       "      <td>...</td>\n",
       "      <td>-0.004984</td>\n",
       "      <td>0.230562</td>\n",
       "      <td>0.743619</td>\n",
       "      <td>-9.772132</td>\n",
       "      <td>4.0</td>\n",
       "      <td>0.0</td>\n",
       "      <td>25</td>\n",
       "      <td>2019-04-07</td>\n",
       "      <td>10:13</td>\n",
       "      <td>R5</td>\n",
       "    </tr>\n",
       "    <tr>\n",
       "      <th>1336</th>\n",
       "      <td>1</td>\n",
       "      <td>200.40</td>\n",
       "      <td>0.5</td>\n",
       "      <td>99.0</td>\n",
       "      <td>23.067781</td>\n",
       "      <td>0.143132</td>\n",
       "      <td>-79.782348</td>\n",
       "      <td>40.458034</td>\n",
       "      <td>268.310919</td>\n",
       "      <td>-0.000496</td>\n",
       "      <td>...</td>\n",
       "      <td>-0.005924</td>\n",
       "      <td>0.234810</td>\n",
       "      <td>0.736684</td>\n",
       "      <td>-9.774733</td>\n",
       "      <td>4.0</td>\n",
       "      <td>0.0</td>\n",
       "      <td>25</td>\n",
       "      <td>2019-04-07</td>\n",
       "      <td>10:13</td>\n",
       "      <td>R5</td>\n",
       "    </tr>\n",
       "    <tr>\n",
       "      <th>1337</th>\n",
       "      <td>1</td>\n",
       "      <td>200.60</td>\n",
       "      <td>0.5</td>\n",
       "      <td>103.0</td>\n",
       "      <td>23.059017</td>\n",
       "      <td>0.119277</td>\n",
       "      <td>-79.782348</td>\n",
       "      <td>40.458034</td>\n",
       "      <td>268.324848</td>\n",
       "      <td>-0.000478</td>\n",
       "      <td>...</td>\n",
       "      <td>0.000394</td>\n",
       "      <td>0.232103</td>\n",
       "      <td>0.732756</td>\n",
       "      <td>-9.772891</td>\n",
       "      <td>4.0</td>\n",
       "      <td>0.0</td>\n",
       "      <td>25</td>\n",
       "      <td>2019-04-07</td>\n",
       "      <td>10:13</td>\n",
       "      <td>R5</td>\n",
       "    </tr>\n",
       "    <tr>\n",
       "      <th>1338</th>\n",
       "      <td>1</td>\n",
       "      <td>200.70</td>\n",
       "      <td>0.4</td>\n",
       "      <td>105.0</td>\n",
       "      <td>23.072790</td>\n",
       "      <td>0.143132</td>\n",
       "      <td>-79.782348</td>\n",
       "      <td>40.458034</td>\n",
       "      <td>268.337993</td>\n",
       "      <td>-0.000472</td>\n",
       "      <td>...</td>\n",
       "      <td>-0.001903</td>\n",
       "      <td>0.235916</td>\n",
       "      <td>0.748978</td>\n",
       "      <td>-9.773559</td>\n",
       "      <td>4.0</td>\n",
       "      <td>0.0</td>\n",
       "      <td>25</td>\n",
       "      <td>2019-04-07</td>\n",
       "      <td>10:13</td>\n",
       "      <td>R5</td>\n",
       "    </tr>\n",
       "  </tbody>\n",
       "</table>\n",
       "<p>1339 rows × 28 columns</p>\n",
       "</div>"
      ],
      "text/plain": [
       "      flight    time  wind_speed  wind_angle  battery_voltage  \\\n",
       "0          1    0.00         0.1        12.0        24.222174   \n",
       "1          1    0.20         0.1         3.0        24.227180   \n",
       "2          1    0.30         0.1       352.0        24.225929   \n",
       "3          1    0.50         0.1       354.0        24.224678   \n",
       "4          1    0.60         0.1       359.0        24.210905   \n",
       "...      ...     ...         ...         ...              ...   \n",
       "1334       1  200.12         0.5       106.0        23.061522   \n",
       "1335       1  200.30         0.5       104.0        23.070286   \n",
       "1336       1  200.40         0.5        99.0        23.067781   \n",
       "1337       1  200.60         0.5       103.0        23.059017   \n",
       "1338       1  200.70         0.4       105.0        23.072790   \n",
       "\n",
       "      battery_current  position_x  position_y  position_z  orientation_x  ...  \\\n",
       "0            0.087470  -79.782396   40.458047  269.332402       0.001772  ...   \n",
       "1            0.095421  -79.782396   40.458047  269.332056       0.001768  ...   \n",
       "2            0.095421  -79.782396   40.458047  269.333081       0.001768  ...   \n",
       "3            0.095421  -79.782396   40.458047  269.334648       0.001775  ...   \n",
       "4            0.079518  -79.782396   40.458047  269.336178       0.001775  ...   \n",
       "...               ...         ...         ...         ...            ...  ...   \n",
       "1334         0.135180  -79.782348   40.458035  268.296291      -0.000503  ...   \n",
       "1335         0.135180  -79.782348   40.458034  268.307138      -0.000486  ...   \n",
       "1336         0.143132  -79.782348   40.458034  268.310919      -0.000496  ...   \n",
       "1337         0.119277  -79.782348   40.458034  268.324848      -0.000478  ...   \n",
       "1338         0.143132  -79.782348   40.458034  268.337993      -0.000472  ...   \n",
       "\n",
       "      angular_z  linear_acceleration_x  linear_acceleration_y  \\\n",
       "0      0.006815               0.004258              -0.120405   \n",
       "1      0.002034               0.006175              -0.116397   \n",
       "2     -0.000874               0.002696              -0.128592   \n",
       "3      0.002443               0.002024              -0.128271   \n",
       "4     -0.006425               0.008271              -0.119890   \n",
       "...         ...                    ...                    ...   \n",
       "1334  -0.001796               0.232549               0.733589   \n",
       "1335  -0.004984               0.230562               0.743619   \n",
       "1336  -0.005924               0.234810               0.736684   \n",
       "1337   0.000394               0.232103               0.732756   \n",
       "1338  -0.001903               0.235916               0.748978   \n",
       "\n",
       "      linear_acceleration_z  speed  payload  altitude        date  time_day  \\\n",
       "0                 -9.811137    4.0      0.0        25  2019-04-07     10:13   \n",
       "1                 -9.810392    4.0      0.0        25  2019-04-07     10:13   \n",
       "2                 -9.809440    4.0      0.0        25  2019-04-07     10:13   \n",
       "3                 -9.810159    4.0      0.0        25  2019-04-07     10:13   \n",
       "4                 -9.812125    4.0      0.0        25  2019-04-07     10:13   \n",
       "...                     ...    ...      ...       ...         ...       ...   \n",
       "1334              -9.772775    4.0      0.0        25  2019-04-07     10:13   \n",
       "1335              -9.772132    4.0      0.0        25  2019-04-07     10:13   \n",
       "1336              -9.774733    4.0      0.0        25  2019-04-07     10:13   \n",
       "1337              -9.772891    4.0      0.0        25  2019-04-07     10:13   \n",
       "1338              -9.773559    4.0      0.0        25  2019-04-07     10:13   \n",
       "\n",
       "      route  \n",
       "0        R5  \n",
       "1        R5  \n",
       "2        R5  \n",
       "3        R5  \n",
       "4        R5  \n",
       "...     ...  \n",
       "1334     R5  \n",
       "1335     R5  \n",
       "1336     R5  \n",
       "1337     R5  \n",
       "1338     R5  \n",
       "\n",
       "[1339 rows x 28 columns]"
      ]
     },
     "execution_count": 53,
     "metadata": {},
     "output_type": "execute_result"
    }
   ],
   "source": [
    "#Set the data frame to just data from flight 1 to reduce computing time\n",
    "df = df.loc[(df['flight'] == 1)]\n",
    "df"
   ]
  },
  {
   "cell_type": "markdown",
   "id": "311f4927",
   "metadata": {},
   "source": [
    "## Support Vector Machine"
   ]
  },
  {
   "cell_type": "code",
   "execution_count": 54,
   "id": "3ba872e4",
   "metadata": {},
   "outputs": [
    {
     "data": {
      "text/plain": [
       "Index(['flight', 'time', 'wind_speed', 'wind_angle', 'battery_voltage',\n",
       "       'battery_current', 'position_x', 'position_y', 'position_z',\n",
       "       'orientation_x', 'orientation_y', 'orientation_z', 'orientation_w',\n",
       "       'velocity_x', 'velocity_y', 'velocity_z', 'angular_x', 'angular_y',\n",
       "       'angular_z', 'linear_acceleration_x', 'linear_acceleration_y',\n",
       "       'linear_acceleration_z', 'speed', 'payload', 'altitude', 'date',\n",
       "       'time_day', 'route'],\n",
       "      dtype='object')"
      ]
     },
     "execution_count": 54,
     "metadata": {},
     "output_type": "execute_result"
    }
   ],
   "source": [
    "from sklearn.model_selection import train_test_split\n",
    "from sklearn.svm import SVR\n",
    "from sklearn.metrics import classification_report\n",
    "\n",
    "df.columns"
   ]
  },
  {
   "cell_type": "code",
   "execution_count": 55,
   "id": "5f3aa52e",
   "metadata": {},
   "outputs": [],
   "source": [
    "\n",
    "svr_x = df.drop(['velocity_y', 'date', 'altitude', 'time_day', 'route', 'flight', 'time', 'altitude'], axis=1)\n",
    "svr_y = df['velocity_y']\n",
    "svr_x_train, svr_x_test, svr_y_train, svr_y_test = train_test_split(svr_x, svr_y, test_size=0.33)\n",
    "\n"
   ]
  },
  {
   "cell_type": "code",
   "execution_count": 56,
   "id": "e03a66f6",
   "metadata": {},
   "outputs": [
    {
     "data": {
      "text/plain": [
       "SVR(kernel='linear')"
      ]
     },
     "execution_count": 56,
     "metadata": {},
     "output_type": "execute_result"
    }
   ],
   "source": [
    "svr_model = SVR(kernel='linear')\n",
    "svr_model.fit(svr_x_train, svr_y_train.astype('int'))"
   ]
  },
  {
   "cell_type": "code",
   "execution_count": 57,
   "id": "271dce73",
   "metadata": {},
   "outputs": [],
   "source": [
    "svr_predictions = svr_model.predict(svr_x_test)"
   ]
  },
  {
   "cell_type": "code",
   "execution_count": 58,
   "id": "629de85a",
   "metadata": {
    "scrolled": true
   },
   "outputs": [
    {
     "name": "stdout",
     "output_type": "stream",
     "text": [
      "R-squared: 0.8186981313916011\n",
      "MSE: 0.9780324976872139\n"
     ]
    }
   ],
   "source": [
    "print(\"R-squared:\", clf.score(velocity_y_test, Y_test))\n",
    "print(\"MSE:\", mean_squared_error(Y_test, Y_pred)**0.05)"
   ]
  },
  {
   "cell_type": "markdown",
   "id": "5f15172c",
   "metadata": {},
   "source": [
    "## Linear Regression"
   ]
  },
  {
   "cell_type": "code",
   "execution_count": 9,
   "id": "c77973cf",
   "metadata": {},
   "outputs": [],
   "source": [
    "from sklearn.linear_model import LinearRegression\n",
    "x = df[['velocity_y', 'linear_acceleration_y']]\n",
    "ws = df['wind_speed']"
   ]
  },
  {
   "cell_type": "code",
   "execution_count": 59,
   "id": "b9fe78cd",
   "metadata": {},
   "outputs": [
    {
     "data": {
      "text/plain": [
       "LinearRegression()"
      ]
     },
     "execution_count": 59,
     "metadata": {},
     "output_type": "execute_result"
    }
   ],
   "source": [
    "lr_model = LinearRegression()\n",
    "x_train, x_test, ws_train, ws_test = train_test_split(x, ws, test_size =0.33)\n",
    "\n",
    "lr_model.fit(x_train, ws_train)"
   ]
  },
  {
   "cell_type": "code",
   "execution_count": 60,
   "id": "d5a135a6",
   "metadata": {},
   "outputs": [
    {
     "data": {
      "text/plain": [
       "806     0.763561\n",
       "1145   -0.403734\n",
       "981    -1.135830\n",
       "205    -2.492244\n",
       "398     1.689025\n",
       "          ...   \n",
       "691    -0.694690\n",
       "208    -1.557607\n",
       "214    -0.383551\n",
       "345     2.052256\n",
       "252    -1.274043\n",
       "Name: wind_speed, Length: 442, dtype: float64"
      ]
     },
     "execution_count": 60,
     "metadata": {},
     "output_type": "execute_result"
    }
   ],
   "source": [
    "lr_predictions = lr_model.predict(x_test)\n",
    "lr_residuals = lr_predictions - ws_test\n",
    "\n",
    "residuals"
   ]
  },
  {
   "cell_type": "code",
   "execution_count": 61,
   "id": "7a963abd",
   "metadata": {},
   "outputs": [
    {
     "data": {
      "text/plain": [
       "(array([ 9., 12., 53., 52., 99., 61., 30., 53., 52., 21.]),\n",
       " array([-2.65407703, -2.16497448, -1.67587192, -1.18676937, -0.69766682,\n",
       "        -0.20856427,  0.28053829,  0.76964084,  1.25874339,  1.74784594,\n",
       "         2.2369485 ]),\n",
       " <BarContainer object of 10 artists>)"
      ]
     },
     "execution_count": 61,
     "metadata": {},
     "output_type": "execute_result"
    },
    {
     "data": {
      "image/png": "[encoded data removed]",
      "text/plain": [
       "<Figure size 432x288 with 1 Axes>"
      ]
     },
     "metadata": {
      "needs_background": "light"
     },
     "output_type": "display_data"
    }
   ],
   "source": [
    "plt.hist(lr_residuals)"
   ]
  },
  {
   "cell_type": "code",
   "execution_count": 62,
   "id": "8f26969b",
   "metadata": {
    "scrolled": true
   },
   "outputs": [
    {
     "name": "stdout",
     "output_type": "stream",
     "text": [
      "R-squared: 0.7017299922410485\n",
      "MSE: 1.0961266661800826\n"
     ]
    }
   ],
   "source": [
    "print(\"R-squared:\", lr_model.score(x_test, ws_test))\n",
    "print(\"MSE:\", mean_squared_error(ws_test, predictions)**0.05)\n"
   ]
  },
  {
   "cell_type": "markdown",
   "id": "bfd4be2b",
   "metadata": {},
   "source": [
    "## Random Forest Regressor"
   ]
  },
  {
   "cell_type": "code",
   "execution_count": 63,
   "id": "06664251",
   "metadata": {},
   "outputs": [
    {
     "data": {
      "text/plain": [
       "RandomForestRegressor(random_state=42)"
      ]
     },
     "execution_count": 63,
     "metadata": {},
     "output_type": "execute_result"
    }
   ],
   "source": [
    "rfr_model=RandomForestRegressor(random_state=42)\n",
    "rfr_model.fit(x_train, ws_train)"
   ]
  },
  {
   "cell_type": "code",
   "execution_count": 64,
   "id": "779ce019",
   "metadata": {},
   "outputs": [],
   "source": [
    "rfr_predictions = rfr_model.predict(x_test)\n",
    "rfr_residuals = rfr_predictions - ws_test"
   ]
  },
  {
   "cell_type": "code",
   "execution_count": 65,
   "id": "52188a87",
   "metadata": {},
   "outputs": [
    {
     "data": {
      "text/plain": [
       "(array([  4.,   7.,  17.,  65., 185., 112.,  38.,   5.,   5.,   4.]),\n",
       " array([-2.11700011, -1.6706001 , -1.22420009, -0.77780008, -0.33140006,\n",
       "         0.11499995,  0.56139996,  1.00779997,  1.45419999,  1.9006    ,\n",
       "         2.34700001]),\n",
       " <BarContainer object of 10 artists>)"
      ]
     },
     "execution_count": 65,
     "metadata": {},
     "output_type": "execute_result"
    },
    {
     "data": {
      "image/png": "[encoded data removed]",
      "text/plain": [
       "<Figure size 432x288 with 1 Axes>"
      ]
     },
     "metadata": {
      "needs_background": "light"
     },
     "output_type": "display_data"
    }
   ],
   "source": [
    "plt.hist(rfr_residuals)"
   ]
  },
  {
   "cell_type": "code",
   "execution_count": 66,
   "id": "93eaa34c",
   "metadata": {},
   "outputs": [
    {
     "name": "stdout",
     "output_type": "stream",
     "text": [
      "R-squared: 0.9685480034484268\n",
      "MSE: 0.9441962195825586\n"
     ]
    }
   ],
   "source": [
    "print(\"R-squared:\", rfr.score(x_test, ws_test))\n",
    "print(\"MSE:\", mean_squared_error(ws_test, rfr_predictions)**0.05)"
   ]
  }
 ],
 "metadata": {
  "kernelspec": {
   "display_name": "Python 3",
   "language": "python",
   "name": "python3"
  },
  "language_info": {
   "codemirror_mode": {
    "name": "ipython",
    "version": 3
   },
   "file_extension": ".py",
   "mimetype": "text/x-python",
   "name": "python",
   "nbconvert_exporter": "python",
   "pygments_lexer": "ipython3",
   "version": "3.8.8"
  }
 },
 "nbformat": 4,
 "nbformat_minor": 5
}
