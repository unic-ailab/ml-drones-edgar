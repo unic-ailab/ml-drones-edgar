{
 "cells": [
  {
   "cell_type": "code",
   "execution_count": 2,
   "id": "50804654",
   "metadata": {},
   "outputs": [
    {
     "name": "stdout",
     "output_type": "stream",
     "text": [
      "Index(['flight', 'time', 'wind_speed', 'wind_angle', 'battery_voltage',\n",
      "       'battery_current', 'position_x', 'position_y', 'position_z',\n",
      "       'orientation_x', 'orientation_y', 'orientation_z', 'orientation_w',\n",
      "       'velocity_x', 'velocity_y', 'velocity_z', 'angular_x', 'angular_y',\n",
      "       'angular_z', 'linear_acceleration_x', 'linear_acceleration_y',\n",
      "       'linear_acceleration_z', 'speed', 'payload', 'altitude', 'date',\n",
      "       'time_day', 'route'],\n",
      "      dtype='object')\n"
     ]
    }
   ],
   "source": [
    "import pandas as pd\n",
    "import numpy as np\n",
    "import matplotlib.pyplot as plt\n",
    "from sklearn import linear_model\n",
    "import warnings\n",
    "warnings.filterwarnings('ignore')\n",
    "\n",
    "df = pd.read_csv('flights.csv')\n",
    "print(df.columns)\n",
    "df=df.sample(5000)\n"
   ]
  },
  {
   "cell_type": "code",
   "execution_count": 3,
   "id": "2f36f8a4",
   "metadata": {},
   "outputs": [
    {
     "data": {
      "text/plain": [
       "<matplotlib.collections.PathCollection at 0x208d8160fa0>"
      ]
     },
     "execution_count": 3,
     "metadata": {},
     "output_type": "execute_result"
    },
    {
     "data": {
      "image/png": "[encoded data removed]",
      "text/plain": [
       "<Figure size 432x288 with 1 Axes>"
      ]
     },
     "metadata": {
      "needs_background": "light"
     },
     "output_type": "display_data"
    }
   ],
   "source": [
    "%matplotlib inline\n",
    "plt.xlabel('wind angle')\n",
    "plt.ylabel('battery voltage')\n",
    "plt.scatter(df.wind_speed,df.velocity_x)"
   ]
  },
  {
   "cell_type": "code",
   "execution_count": 4,
   "id": "1139743b",
   "metadata": {},
   "outputs": [
    {
     "data": {
      "text/plain": [
       "LinearRegression()"
      ]
     },
     "execution_count": 4,
     "metadata": {},
     "output_type": "execute_result"
    }
   ],
   "source": [
    "reg = linear_model.LinearRegression()\n",
    "reg.fit(df[['wind_speed']], df.velocity_x)"
   ]
  },
  {
   "cell_type": "code",
   "execution_count": 5,
   "id": "2bcf62b0",
   "metadata": {},
   "outputs": [
    {
     "data": {
      "text/plain": [
       "array([-0.37673967])"
      ]
     },
     "execution_count": 5,
     "metadata": {},
     "output_type": "execute_result"
    }
   ],
   "source": [
    "reg.predict(np.array([11]).reshape(1,1))"
   ]
  },
  {
   "cell_type": "code",
   "execution_count": 6,
   "id": "3ba872e4",
   "metadata": {},
   "outputs": [],
   "source": [
    "from sklearn.model_selection import train_test_split\n",
    "from sklearn.svm import SVC\n",
    "from sklearn.metrics import classification_report"
   ]
  },
  {
   "cell_type": "code",
   "execution_count": 7,
   "id": "5f3aa52e",
   "metadata": {},
   "outputs": [],
   "source": [
    "velocity_x = df.drop(['velocity_x', 'date', 'altitude', 'time_day', 'route'], axis=1)\n",
    "Y1 = df['velocity_x']\n",
    "velocity_x_train, velocity_x_test, Y1_train, Y1_test = train_test_split(velocity_x, Y1, test_size=0.33)\n",
    "\n",
    "velocity_y = df.drop(['velocity_y', 'date', 'altitude', 'time_day', 'route'], axis=1)\n",
    "Y2 = df['velocity_y']\n",
    "velocity_y_train, velocity_y_test, Y2_train, Y2_test = train_test_split(velocity_y, Y2, test_size=0.33)\n",
    "\n",
    "velocity_z = df.drop(['velocity_z', 'date', 'altitude', 'time_day', 'route'], axis=1)\n",
    "Y3 = df['velocity_z']\n",
    "velocity_z_train, velocity_z_test, Y3_train, Y3_test = train_test_split(velocity_z, Y3, test_size=0.33)"
   ]
  },
  {
   "cell_type": "code",
   "execution_count": 8,
   "id": "662838df",
   "metadata": {},
   "outputs": [],
   "source": [
    "#from sklearn import preprocessing\n",
    "\n",
    "#lab_enc = preprocessing.LabelEncoder()\n",
    "#Y_train_encoded = lab_enc.fit_transform(Y_train)\n",
    "#Y_test_encoded = lab_enc.fit_transform(Y_test)\n",
    "#print(Y_train_encoded)\n"
   ]
  },
  {
   "cell_type": "code",
   "execution_count": 9,
   "id": "e03a66f6",
   "metadata": {},
   "outputs": [
    {
     "data": {
      "text/plain": [
       "SVC(kernel='linear')"
      ]
     },
     "execution_count": 9,
     "metadata": {},
     "output_type": "execute_result"
    }
   ],
   "source": [
    "clfx = SVC(kernel='linear')\n",
    "clfx.fit(velocity_x_train, Y1_train.astype('int'))\n",
    "\n",
    "clfy = SVC(kernel='linear')\n",
    "clfy.fit(velocity_y_train, Y2_train.astype('int'))\n",
    "\n",
    "clfz = SVC(kernel='linear')\n",
    "clfz.fit(velocity_z_train, Y3_train.astype('int'))"
   ]
  },
  {
   "cell_type": "code",
   "execution_count": 125,
   "id": "271dce73",
   "metadata": {},
   "outputs": [],
   "source": [
    "Y1_pred = clfx.predict(velocity_x_test)\n",
    "Y2_pred = clfx.predict(velocity_y_test)\n",
    "Y3_pred = clfx.predict(velocity_z_test)"
   ]
  },
  {
   "cell_type": "code",
   "execution_count": 126,
   "id": "629de85a",
   "metadata": {
    "scrolled": false
   },
   "outputs": [
    {
     "name": "stdout",
     "output_type": "stream",
     "text": [
      "              precision    recall  f1-score   support\n",
      "\n",
      "          -2       0.00      0.00      0.00         0\n",
      "          -1       0.00      0.00      0.00        28\n",
      "           0       0.98      1.00      0.99      1617\n",
      "           1       0.00      0.00      0.00         1\n",
      "           5       0.00      0.00      0.00         1\n",
      "           6       0.00      0.00      0.00         0\n",
      "           8       0.00      0.00      0.00         2\n",
      "           9       0.00      0.00      0.00         1\n",
      "\n",
      "    accuracy                           0.98      1650\n",
      "   macro avg       0.12      0.12      0.12      1650\n",
      "weighted avg       0.96      0.98      0.97      1650\n",
      "\n"
     ]
    },
    {
     "name": "stderr",
     "output_type": "stream",
     "text": [
      "J:\\anaconda3\\lib\\site-packages\\sklearn\\metrics\\_classification.py:1245: UndefinedMetricWarning: Precision and F-score are ill-defined and being set to 0.0 in labels with no predicted samples. Use `zero_division` parameter to control this behavior.\n",
      "  _warn_prf(average, modifier, msg_start, len(result))\n",
      "J:\\anaconda3\\lib\\site-packages\\sklearn\\metrics\\_classification.py:1245: UndefinedMetricWarning: Recall and F-score are ill-defined and being set to 0.0 in labels with no true samples. Use `zero_division` parameter to control this behavior.\n",
      "  _warn_prf(average, modifier, msg_start, len(result))\n",
      "J:\\anaconda3\\lib\\site-packages\\sklearn\\metrics\\_classification.py:1245: UndefinedMetricWarning: Precision and F-score are ill-defined and being set to 0.0 in labels with no predicted samples. Use `zero_division` parameter to control this behavior.\n",
      "  _warn_prf(average, modifier, msg_start, len(result))\n",
      "J:\\anaconda3\\lib\\site-packages\\sklearn\\metrics\\_classification.py:1245: UndefinedMetricWarning: Recall and F-score are ill-defined and being set to 0.0 in labels with no true samples. Use `zero_division` parameter to control this behavior.\n",
      "  _warn_prf(average, modifier, msg_start, len(result))\n",
      "J:\\anaconda3\\lib\\site-packages\\sklearn\\metrics\\_classification.py:1245: UndefinedMetricWarning: Precision and F-score are ill-defined and being set to 0.0 in labels with no predicted samples. Use `zero_division` parameter to control this behavior.\n",
      "  _warn_prf(average, modifier, msg_start, len(result))\n",
      "J:\\anaconda3\\lib\\site-packages\\sklearn\\metrics\\_classification.py:1245: UndefinedMetricWarning: Recall and F-score are ill-defined and being set to 0.0 in labels with no true samples. Use `zero_division` parameter to control this behavior.\n",
      "  _warn_prf(average, modifier, msg_start, len(result))\n"
     ]
    }
   ],
   "source": [
    "print(classification_report(Y1_test.astype('int'), Y1_pred))"
   ]
  },
  {
   "cell_type": "code",
   "execution_count": null,
   "id": "6bd035be",
   "metadata": {},
   "outputs": [],
   "source": []
  }
 ],
 "metadata": {
  "kernelspec": {
   "display_name": "Python 3",
   "language": "python",
   "name": "python3"
  },
  "language_info": {
   "codemirror_mode": {
    "name": "ipython",
    "version": 3
   },
   "file_extension": ".py",
   "mimetype": "text/x-python",
   "name": "python",
   "nbconvert_exporter": "python",
   "pygments_lexer": "ipython3",
   "version": "3.8.8"
  }
 },
 "nbformat": 4,
 "nbformat_minor": 5
}
