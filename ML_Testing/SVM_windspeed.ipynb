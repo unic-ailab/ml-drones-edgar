{
 "cells": [
  {
   "cell_type": "code",
   "execution_count": 1,
   "id": "50804654",
   "metadata": {},
   "outputs": [
    {
     "name": "stdout",
     "output_type": "stream",
     "text": [
      "Index(['flight', 'time', 'wind_speed', 'wind_angle', 'battery_voltage',\n",
      "       'battery_current', 'position_x', 'position_y', 'position_z',\n",
      "       'orientation_x', 'orientation_y', 'orientation_z', 'orientation_w',\n",
      "       'velocity_x', 'velocity_y', 'velocity_z', 'angular_x', 'angular_y',\n",
      "       'angular_z', 'linear_acceleration_x', 'linear_acceleration_y',\n",
      "       'linear_acceleration_z', 'speed', 'payload', 'altitude', 'date',\n",
      "       'time_day', 'route'],\n",
      "      dtype='object')\n"
     ]
    },
    {
     "name": "stderr",
     "output_type": "stream",
     "text": [
      "J:\\anaconda3\\lib\\site-packages\\IPython\\core\\interactiveshell.py:3165: DtypeWarning: Columns (24) have mixed types.Specify dtype option on import or set low_memory=False.\n",
      "  has_raised = await self.run_ast_nodes(code_ast.body, cell_name,\n"
     ]
    }
   ],
   "source": [
    "import pandas as pd\n",
    "import numpy as np\n",
    "import matplotlib.pyplot as plt\n",
    "from sklearn import linear_model\n",
    "\n",
    "df = pd.read_csv('flights.csv')\n",
    "print(df.columns)\n",
    "df=df.head(1000)\n"
   ]
  },
  {
   "cell_type": "code",
   "execution_count": 2,
   "id": "2f36f8a4",
   "metadata": {},
   "outputs": [
    {
     "data": {
      "text/plain": [
       "<matplotlib.collections.PathCollection at 0x12480039fd0>"
      ]
     },
     "execution_count": 2,
     "metadata": {},
     "output_type": "execute_result"
    },
    {
     "data": {
      "image/png": "[encoded data removed]",
      "text/plain": [
       "<Figure size 432x288 with 1 Axes>"
      ]
     },
     "metadata": {
      "needs_background": "light"
     },
     "output_type": "display_data"
    }
   ],
   "source": [
    "%matplotlib inline\n",
    "plt.xlabel('wind speed')\n",
    "plt.ylabel('battery voltage')\n",
    "plt.scatter(df.wind_speed,df.battery_voltage)"
   ]
  },
  {
   "cell_type": "code",
   "execution_count": 3,
   "id": "1139743b",
   "metadata": {},
   "outputs": [
    {
     "data": {
      "text/plain": [
       "LinearRegression()"
      ]
     },
     "execution_count": 3,
     "metadata": {},
     "output_type": "execute_result"
    }
   ],
   "source": [
    "reg = linear_model.LinearRegression()\n",
    "reg.fit(df[['wind_speed']], df.battery_voltage)"
   ]
  },
  {
   "cell_type": "code",
   "execution_count": 4,
   "id": "2bcf62b0",
   "metadata": {},
   "outputs": [
    {
     "data": {
      "text/plain": [
       "array([19.92047764])"
      ]
     },
     "execution_count": 4,
     "metadata": {},
     "output_type": "execute_result"
    }
   ],
   "source": [
    "reg.predict(np.array([11]).reshape(1,1))"
   ]
  },
  {
   "cell_type": "code",
   "execution_count": 5,
   "id": "3ba872e4",
   "metadata": {},
   "outputs": [],
   "source": [
    "from sklearn.model_selection import train_test_split\n",
    "from sklearn.svm import SVC\n",
    "from sklearn.metrics import classification_report"
   ]
  },
  {
   "cell_type": "code",
   "execution_count": 7,
   "id": "51f652cb",
   "metadata": {},
   "outputs": [
    {
     "data": {
      "text/plain": [
       "<bound method NDFrame.head of      flight   time  wind_speed  wind_angle  battery_voltage  battery_current  \\\n",
       "0         1    0.0         0.1        12.0        24.222174         0.087470   \n",
       "1         1    0.2         0.1         3.0        24.227180         0.095421   \n",
       "2         1    0.3         0.1       352.0        24.225929         0.095421   \n",
       "3         1    0.5         0.1       354.0        24.224678         0.095421   \n",
       "4         1    0.6         0.1       359.0        24.210905         0.079518   \n",
       "..      ...    ...         ...         ...              ...              ...   \n",
       "995       1  149.2         6.5       202.0        21.532768        22.296774   \n",
       "996       1  149.4         6.4       204.0        21.575338        20.984732   \n",
       "997       1  149.5         6.4       205.0        21.659225        19.958952   \n",
       "998       1  149.7         6.3       206.0        21.629175        21.382320   \n",
       "999       1  149.9         6.3       206.0        21.625420        20.412203   \n",
       "\n",
       "     position_x  position_y  position_z  orientation_x  ...  angular_z  \\\n",
       "0    -79.782396   40.458047  269.332402       0.001772  ...   0.006815   \n",
       "1    -79.782396   40.458047  269.332056       0.001768  ...   0.002034   \n",
       "2    -79.782396   40.458047  269.333081       0.001768  ...  -0.000874   \n",
       "3    -79.782396   40.458047  269.334648       0.001775  ...   0.002443   \n",
       "4    -79.782396   40.458047  269.336178       0.001775  ...  -0.006425   \n",
       "..          ...         ...         ...            ...  ...        ...   \n",
       "995  -79.782112   40.458454  288.956969       0.020248  ...  -0.199549   \n",
       "996  -79.782116   40.458447  289.008845       0.017713  ...  -0.009210   \n",
       "997  -79.782118   40.458444  289.068222       0.014415  ...  -0.009742   \n",
       "998  -79.782122   40.458438  289.152956       0.012641  ...  -0.049306   \n",
       "999  -79.782124   40.458435  289.177199       0.013680  ...  -0.052202   \n",
       "\n",
       "     linear_acceleration_x  linear_acceleration_y  linear_acceleration_z  \\\n",
       "0                 0.004258              -0.120405              -9.811137   \n",
       "1                 0.006175              -0.116397              -9.810392   \n",
       "2                 0.002696              -0.128592              -9.809440   \n",
       "3                 0.002024              -0.128271              -9.810159   \n",
       "4                 0.008271              -0.119890              -9.812125   \n",
       "..                     ...                    ...                    ...   \n",
       "995              -0.872729               0.378176              -9.730749   \n",
       "996              -0.711773               0.623789              -9.704153   \n",
       "997              -0.810422               0.486809              -9.526346   \n",
       "998              -0.739678               0.441696              -9.609925   \n",
       "999              -0.849798               0.332336              -9.534659   \n",
       "\n",
       "     speed  payload  altitude        date  time_day  route  \n",
       "0      4.0      0.0        25  2019-04-07     10:13     R5  \n",
       "1      4.0      0.0        25  2019-04-07     10:13     R5  \n",
       "2      4.0      0.0        25  2019-04-07     10:13     R5  \n",
       "3      4.0      0.0        25  2019-04-07     10:13     R5  \n",
       "4      4.0      0.0        25  2019-04-07     10:13     R5  \n",
       "..     ...      ...       ...         ...       ...    ...  \n",
       "995    4.0      0.0        25  2019-04-07     10:13     R5  \n",
       "996    4.0      0.0        25  2019-04-07     10:13     R5  \n",
       "997    4.0      0.0        25  2019-04-07     10:13     R5  \n",
       "998    4.0      0.0        25  2019-04-07     10:13     R5  \n",
       "999    4.0      0.0        25  2019-04-07     10:13     R5  \n",
       "\n",
       "[1000 rows x 28 columns]>"
      ]
     },
     "execution_count": 7,
     "metadata": {},
     "output_type": "execute_result"
    }
   ],
   "source": [
    "df.head\n"
   ]
  },
  {
   "cell_type": "code",
   "execution_count": 20,
   "id": "5f3aa52e",
   "metadata": {},
   "outputs": [],
   "source": [
    "X = df.drop(['wind_speed', 'date', 'altitude', 'time_day', 'route'], axis=1)\n",
    "Y = df['wind_speed']\n",
    "\n",
    "X_train, X_test, Y_train, Y_test = train_test_split(X, Y, test_size=0.30)"
   ]
  },
  {
   "cell_type": "code",
   "execution_count": 16,
   "id": "662838df",
   "metadata": {},
   "outputs": [],
   "source": [
    "#from sklearn import preprocessing\n",
    "\n",
    "#lab_enc = preprocessing.LabelEncoder()\n",
    "#Y_train_encoded = lab_enc.fit_transform(Y_train)\n",
    "#Y_test_encoded = lab_enc.fit_transform(Y_test)"
   ]
  },
  {
   "cell_type": "code",
   "execution_count": 21,
   "id": "e03a66f6",
   "metadata": {},
   "outputs": [
    {
     "data": {
      "text/plain": [
       "SVC(kernel='linear')"
      ]
     },
     "execution_count": 21,
     "metadata": {},
     "output_type": "execute_result"
    }
   ],
   "source": [
    "clf = SVC(kernel='linear')\n",
    "clf.fit(X_train, Y_train.astype('int'))"
   ]
  },
  {
   "cell_type": "code",
   "execution_count": 22,
   "id": "271dce73",
   "metadata": {},
   "outputs": [],
   "source": [
    "Y_pred = clf.predict(X_test)"
   ]
  },
  {
   "cell_type": "code",
   "execution_count": 23,
   "id": "629de85a",
   "metadata": {},
   "outputs": [
    {
     "name": "stdout",
     "output_type": "stream",
     "text": [
      "              precision    recall  f1-score   support\n",
      "\n",
      "           0       0.94      0.94      0.94        16\n",
      "           1       0.95      0.97      0.96        37\n",
      "           2       0.72      0.62      0.67        34\n",
      "           3       0.77      0.86      0.81        65\n",
      "           4       0.80      0.50      0.62        16\n",
      "           5       0.83      0.86      0.85        80\n",
      "           6       0.80      0.79      0.80        52\n",
      "\n",
      "    accuracy                           0.82       300\n",
      "   macro avg       0.83      0.79      0.80       300\n",
      "weighted avg       0.82      0.82      0.82       300\n",
      "\n"
     ]
    }
   ],
   "source": [
    "print(classification_report(Y_test.astype('int'), Y_pred))"
   ]
  }
 ],
 "metadata": {
  "kernelspec": {
   "display_name": "Python 3",
   "language": "python",
   "name": "python3"
  },
  "language_info": {
   "codemirror_mode": {
    "name": "ipython",
    "version": 3
   },
   "file_extension": ".py",
   "mimetype": "text/x-python",
   "name": "python",
   "nbconvert_exporter": "python",
   "pygments_lexer": "ipython3",
   "version": "3.8.8"
  }
 },
 "nbformat": 4,
 "nbformat_minor": 5
}
